{
  "cells": [
    {
      "cell_type": "raw",
      "metadata": {},
      "source": [
        "---\n",
        "title: 1-distributions\n",
        "format: html\n",
        "editor: visual\n",
        "---"
      ],
      "id": "5f1a9de4"
    },
    {
      "cell_type": "markdown",
      "metadata": {},
      "source": [
        "## Setup\n"
      ],
      "id": "e847cac6"
    },
    {
      "cell_type": "code",
      "metadata": {},
      "source": [
        "#import scipy.stats as st\n",
        "import numpy as np\n",
        "import pandas as pd"
      ],
      "id": "ec5e89b1",
      "execution_count": null,
      "outputs": []
    },
    {
      "cell_type": "markdown",
      "metadata": {},
      "source": [
        "```{R}\n",
        "rnorm(1)\n",
        "```\n",
        "\n",
        "```{julia}\n",
        "1+1\n",
        "```"
      ],
      "id": "c4c082fd"
    }
  ],
  "metadata": {
    "kernelspec": {
      "name": "python3",
      "language": "python",
      "display_name": "Python 3 (ipykernel)"
    }
  },
  "nbformat": 4,
  "nbformat_minor": 5
}